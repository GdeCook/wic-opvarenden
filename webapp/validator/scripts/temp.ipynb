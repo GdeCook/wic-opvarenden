{
 "cells": [
  {
   "cell_type": "code",
   "execution_count": 1,
   "metadata": {},
   "outputs": [],
   "source": [
    "import requests\n"
   ]
  },
  {
   "cell_type": "code",
   "execution_count": 6,
   "metadata": {},
   "outputs": [],
   "source": [
    "# URL to fetch\n",
    "url = \"https://archief.amsterdam/indexen/deeds/d0092ad0-9d4d-1a7b-e053-b784100aab8a\"\n",
    "\n",
    "# Fetch the content from the URL\n",
    "response = requests.get(url)"
   ]
  },
  {
   "cell_type": "code",
   "execution_count": 7,
   "metadata": {},
   "outputs": [
    {
     "data": {
      "text/plain": [
       "'<!DOCTYPE html>\\n<html class=\"no-js\" lang=\"nl\" >\\n<head>\\n    <script src=\"https://code.jquery.com/jquery-3.3.1.slim.min.js\"></script>\\n        <base href=\"https://archief.amsterdam/indexen/\" />\\n\\t<meta http-equiv=\"content-type\" content=\"text/html; charset=utf-8\" />\\n\\t<meta name=\"generator\" content=\"Joomla! - Open Source Content Management\" />\\n\\t<title>Indexen</title>\\n\\t<link href=\"/templates/ams/favicon.ico\" rel=\"shortcut icon\" type=\"image/vnd.microsoft.icon\" />\\n\\t<link href=\"https://webservices.picturae.com/genealogy/dist/css/genealogy.css\" rel=\"stylesheet\" type=\"text/css\" />\\n\\t<link href=\"//cdnjs.cloudflare.com/ajax/libs/ng-dialog/0.3.0/css/ngDialog.min.css\" rel=\"stylesheet\" type=\"text/css\" />\\n\\t<link href=\"//cdnjs.cloudflare.com/ajax/libs/ng-dialog/0.3.0/css/ngDialog-theme-plain.min.css\" rel=\"stylesheet\" type=\"text/css\" />\\n\\t<link href=\"/plugins/system/gdpr/assets/css/cookieconsent.min.css\" rel=\"stylesheet\" type=\"text/css\" />\\n\\t<style type=\"text/css\">\\ndiv.cc-window, span.cc-cookie-settings-toggler{font-size:16px}\\rdiv.cc-revoke{font-size:16px}\\rdiv.cc-settings-label,span.cc-cookie-settings-toggle{font-size:14px}\\rdiv.cc-window.cc-banner{padding:1em 1.8em}\\rdiv.cc-window.cc-floating{padding:2em 1.8em}\\n\\t</style>\\n\\t<script src=\"//images.memorix.nl/topviewer/1.0/src/topviewer.compressed.js?v=1.0\" type=\"text/javascript\"></script>\\n\\t<script src=\"https://webservices.picturae.com/genealogy/dist/js/deps.min.js\" type=\"text/javascript\"></script>\\n\\t<script src=\"https://webservices.picturae.com/genealogy/dist/js/partials/partials.min.js\" type=\"text/javascript\"></script>\\n\\t<script src=\"https://webservices.picturae.com/genealogy/dist/js/i18n/nl.js\" type=\"text/javascript\"></script>\\n\\t<script src=\"https://webservices.picturae.com/genealogy/dist/js/app.js\" type=\"text/javascript\"></script>\\n\\t<script src=\"/media/jui/js/jquery.min.js?3a84100cb143ea448c23cf41ae80393e\" type=\"text/javascript\"></script>\\n\\t<script src=\"/media/jui/js/jquery-noconflict.js?3a84100cb143ea448c23cf41ae80393e\" type=\"text/javascript\"></script>\\n\\t<script src=\"/media/jui/js/jquery-migrate.min.js?3a84100cb143ea448c23cf41ae80393e\" type=\"text/javascript\"></script>\\n\\t<script src=\"/plugins/system/gdpr/assets/js/cookieconsent.min.js\" type=\"text/javascript\" defer=\"defer\"></script>\\n\\t<script src=\"/plugins/system/gdpr/assets/js/init.js\" type=\"text/javascript\" defer=\"defer\"></script>\\n\\t<script type=\"text/javascript\">\\nvar gdprConfigurationOptions = { complianceType: \\'opt-in\\',\\r\\n\\t\\t\\t\\t\\t\\t\\t\\t\\t\\t\\t\\t\\t\\t\\t\\t\\t\\t\\t  disableFirstReload: 0,\\r\\n\\t\\t\\t\\t\\t\\t\\t\\t\\t\\t\\t\\t\\t\\t\\t\\t\\t  \\t\\t  blockJoomlaSessionCookie: 1,\\r\\n\\t\\t\\t\\t\\t\\t\\t\\t\\t\\t\\t\\t\\t\\t\\t\\t\\t\\t\\t  blockExternalCookiesDomains: 0,\\r\\n\\t\\t\\t\\t\\t\\t\\t\\t\\t\\t\\t\\t\\t\\t\\t\\t\\t\\t\\t  allowedCookies: \\'\\',\\r\\n\\t\\t\\t\\t\\t\\t\\t\\t\\t\\t\\t\\t\\t\\t\\t\\t\\t\\t\\t  blockCookieDefine: 1,\\r\\n\\t\\t\\t\\t\\t\\t\\t\\t\\t\\t\\t\\t\\t\\t\\t\\t\\t\\t\\t  autoAcceptOnNextPage: 0,\\r\\n\\t\\t\\t\\t\\t\\t\\t\\t\\t\\t\\t\\t\\t\\t\\t\\t\\t\\t\\t  revokable: 0,\\r\\n\\t\\t\\t\\t\\t\\t\\t\\t\\t\\t\\t\\t\\t\\t\\t\\t\\t\\t\\t  lawByCountry: 0,\\r\\n\\t\\t\\t\\t\\t\\t\\t\\t\\t\\t\\t\\t\\t\\t\\t\\t\\t\\t\\t  checkboxLawByCountry: 0,\\r\\n\\t\\t\\t\\t\\t\\t\\t\\t\\t\\t\\t\\t\\t\\t\\t\\t\\t\\t\\t  cacheGeolocationCountry: 1,\\r\\n\\t\\t\\t\\t\\t\\t\\t\\t\\t\\t\\t\\t\\t\\t\\t\\t\\t\\t\\t  countryAcceptReloadTimeout: 1000,\\r\\n\\t\\t\\t\\t\\t\\t\\t\\t\\t\\t\\t\\t\\t\\t\\t\\t\\t\\t\\t  usaCCPARegions: null,\\r\\n\\t\\t\\t\\t\\t\\t\\t\\t\\t\\t\\t\\t\\t\\t\\t\\t\\t\\t\\t  dismissOnScroll: 0,\\r\\n\\t\\t\\t\\t\\t\\t\\t\\t\\t\\t\\t\\t\\t\\t\\t\\t\\t\\t\\t  dismissOnTimeout: 0,\\r\\n\\t\\t\\t\\t\\t\\t\\t\\t\\t\\t\\t\\t\\t\\t\\t\\t\\t\\t\\t  containerSelector: \\'body\\',\\r\\n\\t\\t\\t\\t\\t\\t\\t\\t\\t\\t\\t\\t\\t\\t\\t\\t\\t\\t\\t  hideOnMobileDevices: 0,\\r\\n\\t\\t\\t\\t\\t\\t\\t\\t\\t\\t\\t\\t\\t\\t\\t\\t\\t\\t\\t  defaultClosedToolbar: 0,\\r\\n\\t\\t\\t\\t\\t\\t\\t\\t\\t\\t\\t\\t\\t\\t\\t\\t\\t\\t\\t  toolbarLayout: \\'basic\\',\\r\\n\\t\\t\\t\\t\\t\\t\\t\\t\\t\\t\\t\\t\\t\\t\\t\\t\\t\\t\\t  toolbarTheme: \\'block\\',\\r\\n\\t\\t\\t\\t\\t\\t\\t\\t\\t\\t\\t\\t\\t\\t\\t\\t\\t\\t\\t  revocableToolbarTheme: \\'basic\\',\\r\\n\\t\\t\\t\\t\\t\\t\\t\\t\\t\\t\\t\\t\\t\\t\\t\\t\\t\\t\\t  toolbarPosition: \\'bottom\\',\\r\\n\\t\\t\\t\\t\\t\\t\\t\\t\\t\\t\\t\\t\\t\\t\\t\\t\\t\\t\\t  revokePosition: \\'revoke-top\\',\\r\\n\\t\\t\\t\\t\\t\\t\\t\\t\\t\\t\\t\\t\\t\\t\\t\\t\\t\\t\\t  toolbarPositionmentType: 1,\\r\\n\\t\\t\\t\\t\\t\\t\\t\\t\\t\\t\\t\\t\\t\\t\\t\\t\\t\\t\\t  popupBackground: \\'#000000\\',\\r\\n\\t\\t\\t\\t\\t\\t\\t\\t\\t\\t\\t\\t\\t\\t\\t\\t\\t\\t\\t  popupText: \\'#ffffff\\',\\r\\n\\t\\t\\t\\t\\t\\t\\t\\t\\t\\t\\t\\t\\t\\t\\t\\t\\t\\t\\t  popupLink: \\'#ffffff\\',\\r\\n\\t\\t\\t\\t\\t\\t\\t\\t\\t\\t\\t\\t\\t\\t\\t\\t\\t\\t\\t  buttonBackground: \\'#ffffff\\',\\r\\n\\t\\t\\t\\t\\t\\t\\t\\t\\t\\t\\t\\t\\t\\t\\t\\t\\t\\t\\t  buttonBorder: \\'#ffffff\\',\\r\\n\\t\\t\\t\\t\\t\\t\\t\\t\\t\\t\\t\\t\\t\\t\\t\\t\\t\\t\\t  buttonText: \\'#000000\\',\\r\\n\\t\\t\\t\\t\\t\\t\\t\\t\\t\\t\\t\\t\\t\\t\\t\\t\\t\\t\\t  highlightOpacity: \\'100\\',\\r\\n\\t\\t\\t\\t\\t\\t\\t\\t\\t\\t\\t\\t\\t\\t\\t\\t\\t\\t\\t  highlightBackground: \\'#333333\\',\\r\\n\\t\\t\\t\\t\\t\\t\\t\\t\\t\\t\\t\\t\\t\\t\\t\\t\\t\\t\\t  highlightBorder: \\'#ffffff\\',\\r\\n\\t\\t\\t\\t\\t\\t\\t\\t\\t\\t\\t\\t\\t\\t\\t\\t\\t\\t\\t  highlightText: \\'#ffffff\\',\\r\\n\\t\\t\\t\\t\\t\\t\\t\\t\\t\\t\\t\\t\\t\\t\\t\\t\\t\\t\\t  highlightDismissBackground: \\'#000000\\',\\r\\n\\t\\t\\t\\t\\t\\t\\t\\t\\t\\t\\t\\t\\t\\t\\t\\t\\t\\t  \\t  highlightDismissBorder: \\'#000000\\',\\r\\n\\t\\t\\t\\t\\t\\t\\t\\t\\t\\t\\t\\t\\t\\t\\t\\t\\t\\t \\t  highlightDismissText: \\'#000000\\',\\r\\n\\t\\t\\t\\t\\t\\t\\t\\t\\t\\t\\t\\t\\t\\t\\t\\t\\t\\t\\t  hideRevokableButton: 0,\\r\\n\\t\\t\\t\\t\\t\\t\\t\\t\\t\\t\\t\\t\\t\\t\\t\\t\\t\\t\\t  hideRevokableButtonOnscroll: 0,\\r\\n\\t\\t\\t\\t\\t\\t\\t\\t\\t\\t\\t\\t\\t\\t\\t\\t\\t\\t\\t  customRevokableButton: 0,\\r\\n\\t\\t\\t\\t\\t\\t\\t\\t\\t\\t\\t\\t\\t\\t\\t\\t\\t\\t\\t  headerText: \\'Cookies used on the website!\\',\\r\\n\\t\\t\\t\\t\\t\\t\\t\\t\\t\\t\\t\\t\\t\\t\\t\\t\\t\\t\\t  messageText: \\'Gegevens over mogelijk nog levende personen mogen alleen worden gebruikt voor historisch (waaronder genealogisch), wetenschappelijk of statistisch onderzoek.<br />Lees meer in het <a href=\\\\\"/images/uitleg-persoonsgegevens/BeleidPersoonsgegevens2018.pdf\\\\\" target=\\\\\"_blank\\\\\">Beleid Persoonsgegevens</a>.\\',\\r\\n\\t\\t\\t\\t\\t\\t\\t\\t\\t\\t\\t\\t\\t\\t\\t\\t\\t\\t\\t  denyMessageEnabled: 0, \\r\\n\\t\\t\\t\\t\\t\\t\\t\\t\\t\\t\\t\\t\\t\\t\\t\\t\\t\\t\\t  denyMessage: \\'You have declined cookies, to ensure the best experience on this website please consent the cookie usage.\\',\\r\\n\\t\\t\\t\\t\\t\\t\\t\\t\\t\\t\\t\\t\\t\\t\\t\\t\\t\\t\\t  placeholderBlockedResources: 0, \\r\\n\\t\\t\\t\\t\\t\\t\\t\\t\\t\\t\\t\\t\\t\\t\\t\\t\\t  \\t\\t  placeholderBlockedResourcesText: \\'You must accept cookies and reload the page to view this content\\',\\r\\n\\t\\t\\t\\t\\t\\t\\t\\t\\t\\t\\t\\t\\t\\t\\t\\t\\t\\t\\t  placeholderBlockedResourcesAction: \\'\\',\\r\\n\\t\\t\\t\\t\\t\\t\\t\\t\\t\\t\\t\\t\\t\\t\\t  \\t\\t  \\t\\t  dismissText: \\' \\',\\r\\n\\t\\t\\t\\t\\t\\t\\t\\t\\t\\t\\t\\t\\t\\t\\t\\t\\t\\t\\t  allowText: \\'Accepteren\\',\\r\\n\\t\\t\\t\\t\\t\\t\\t\\t\\t\\t\\t\\t\\t\\t\\t\\t\\t\\t\\t  denyText: \\'Weigeren\\',\\r\\n\\t\\t\\t\\t\\t\\t\\t\\t\\t\\t\\t\\t\\t\\t\\t\\t\\t\\t\\t  cookiePolicyLinkText: \\'\\',\\r\\n\\t\\t\\t\\t\\t\\t\\t\\t\\t\\t\\t\\t\\t\\t\\t\\t\\t\\t\\t  cookiePolicyLink: \\'javascript:void(0)\\',\\r\\n\\t\\t\\t\\t\\t\\t\\t\\t\\t\\t\\t\\t\\t\\t\\t\\t\\t\\t\\t  cookiePolicyRevocableTabText: \\'Reglement\\',\\r\\n\\t\\t\\t\\t\\t\\t\\t\\t\\t\\t\\t\\t\\t\\t\\t\\t\\t\\t\\t  privacyPolicyLinkText: \\'\\',\\r\\n\\t\\t\\t\\t\\t\\t\\t\\t\\t\\t\\t\\t\\t\\t\\t\\t\\t\\t\\t  privacyPolicyLink: \\'javascript:void(0)\\',\\r\\n\\t\\t\\t\\t\\t\\t\\t\\t\\t\\t\\t\\t\\t\\t\\t\\t\\t\\t\\t  toggleCookieSettings: 0,\\r\\n\\t\\t\\t\\t\\t\\t\\t\\t\\t\\t\\t\\t\\t\\t\\t\\t\\t  \\t\\t  toggleCookieSettingsText: \\'<span class=\"cc-cookie-settings-toggle\">Settings <span class=\"cc-cookie-settings-toggler\">&#x25EE;</span></span>\\',\\r\\n\\t\\t\\t\\t\\t\\t\\t\\t\\t\\t\\t\\t\\t\\t\\t\\t\\t\\t\\t  showLinks: 1,\\r\\n\\t\\t\\t\\t\\t\\t\\t\\t\\t\\t\\t\\t\\t\\t\\t\\t\\t\\t\\t  blankLinks: \\'_blank\\',\\r\\n\\t\\t\\t\\t\\t\\t\\t\\t\\t\\t\\t\\t\\t\\t\\t\\t\\t\\t\\t  autoOpenPrivacyPolicy: 0,\\r\\n\\t\\t\\t\\t\\t\\t\\t\\t\\t\\t\\t\\t\\t\\t\\t\\t\\t\\t\\t  openAlwaysDeclined: 1,\\r\\n\\t\\t\\t\\t\\t\\t\\t\\t\\t\\t\\t\\t\\t\\t\\t\\t\\t\\t\\t  cookieSettingsLabel: \\'Cookie settings:\\',\\r\\n\\t\\t\\t\\t\\t\\t\\t\\t\\t\\t\\t\\t\\t\\t\\t  \\t\\t\\t\\t  cookieSettingsDesc: \\'Choose which kind of cookies you want to disable by clicking on the checkboxes. Click on a category name for more informations about used cookies.\\',\\r\\n\\t\\t\\t\\t\\t\\t\\t\\t\\t\\t\\t\\t\\t\\t\\t\\t\\t\\t\\t  cookieCategory1Enable: 0,\\r\\n\\t\\t\\t\\t\\t\\t\\t\\t\\t\\t\\t\\t\\t\\t\\t\\t\\t\\t\\t  cookieCategory1Name: \\'Necessary\\',\\r\\n\\t\\t\\t\\t\\t\\t\\t\\t\\t\\t\\t\\t\\t\\t\\t\\t\\t\\t\\t  cookieCategory1Locked: 0,\\r\\n\\t\\t\\t\\t\\t\\t\\t\\t\\t\\t\\t\\t\\t\\t\\t\\t\\t\\t\\t  cookieCategory2Enable: 0,\\r\\n\\t\\t\\t\\t\\t\\t\\t\\t\\t\\t\\t\\t\\t\\t\\t\\t\\t\\t\\t  cookieCategory2Name: \\'Preferences\\',\\r\\n\\t\\t\\t\\t\\t\\t\\t\\t\\t\\t\\t\\t\\t\\t\\t\\t\\t\\t\\t  cookieCategory2Locked: 0,\\r\\n\\t\\t\\t\\t\\t\\t\\t\\t\\t\\t\\t\\t\\t\\t\\t\\t\\t\\t\\t  cookieCategory3Enable: 0,\\r\\n\\t\\t\\t\\t\\t\\t\\t\\t\\t\\t\\t\\t\\t\\t\\t\\t\\t\\t\\t  cookieCategory3Name: \\'Statistics\\',\\r\\n\\t\\t\\t\\t\\t\\t\\t\\t\\t\\t\\t\\t\\t\\t\\t\\t\\t\\t\\t  cookieCategory3Locked: 0,\\r\\n\\t\\t\\t\\t\\t\\t\\t\\t\\t\\t\\t\\t\\t\\t\\t\\t\\t\\t\\t  cookieCategory4Enable: 0,\\r\\n\\t\\t\\t\\t\\t\\t\\t\\t\\t\\t\\t\\t\\t\\t\\t\\t\\t\\t\\t  cookieCategory4Name: \\'Marketing\\',\\r\\n\\t\\t\\t\\t\\t\\t\\t\\t\\t\\t\\t\\t\\t\\t\\t\\t\\t\\t\\t  cookieCategory4Locked: 0,\\r\\n\\t\\t\\t\\t\\t\\t\\t\\t\\t\\t\\t\\t\\t\\t\\t\\t\\t\\t\\t  alwaysReloadAfterCategoriesChange: 0,\\r\\n\\t\\t\\t\\t\\t\\t\\t\\t\\t\\t\\t\\t\\t\\t\\t\\t\\t\\t\\t  preserveLockedCategories: 0,\\r\\n\\t\\t\\t\\t\\t\\t\\t\\t\\t\\t\\t\\t\\t\\t\\t\\t\\t\\t\\t  reloadOnfirstDeclineall: 0,\\r\\n\\t\\t\\t\\t\\t\\t\\t\\t\\t\\t\\t\\t\\t\\t\\t\\t\\t\\t\\t  trackExistingCheckboxSelectors: \\'\\',\\r\\n\\t\\t\\t\\t\\t\\t\\t\\t\\t\\t\\t\\t\\t\\t\\t  \\t\\t  \\t\\t  trackExistingCheckboxConsentLogsFormfields: \\'name,email,subject,message\\',\\r\\n\\t\\t\\t\\t\\t\\t\\t\\t\\t\\t\\t\\t\\t\\t\\t\\t\\t\\t\\t  debugMode: 0\\r\\n\\t\\t\\t\\t\\t\\t\\t\\t\\t\\t\\t\\t\\t\\t\\t\\t\\t\\t};\\rvar gdpr_ajax_livesite=\\'https://archief.amsterdam/\\';\\rvar gdpr_enable_log_cookie_consent=1;\\n\\t</script>\\n\\n    <meta name=\"viewport\" content=\"width=device-width, initial-scale=1\">\\n    <meta name=\"application-name\" content=\"Stadsarchief Amsterdam\"/>\\n    <!-- <link href=\"https://fonts.googleapis.com/css?family=Open+Sans\" rel=\"stylesheet\"> -->\\n    <script src=\"//code.tidio.co/ucsom66ddjjjgz2vamyg9ksft8zw7jaf.js\" async></script>\\n    <link rel=\"apple-touch-icon\" href=\"/templates/ams/apple-touch-icon.png\">\\n    <link rel=\"stylesheet\" href=\"/templates/ams/dist/main.f76aa8f9b1653d62b3ad.css\" type=\"text/css\" >\\n    <script src=\"/templates/ams/dist/main.f76aa8f9b1653d62b3ad.js\"></script>\\n\\n    <script type=\"application/ld+json\">\\n      {\\n        \"@context\": \"http://schema.org\",\\n        \"@graph\":\\n          [\\n            {\\n              \"@type\": \"Organization\",\\n              \"url\": \"https://archief.amsterdam/\",\\n              \"name\": \"Stadsarchief Amsterdam\",\\n              \"logo\": \"https://archief.amsterdam/templates/ams/img/gemeente-amsterdam-stadsarchief.png\",\\n              \"address\": {\\n                \"@type\": \"PostalAddress\",\\n                \"streetAddress\": \"\",\\n                \"addressLocality\": \"\",\\n                \"postalCode\": \"\",\\n                \"addressCountry\": \"NL\"\\n              },\\n              \"contactPoint\": [\\n                { \"@type\": \"ContactPoint\",\\n                \"telephone\": \"\",\\n                \"email\": \"contact@picturae.com\",\\n                \"contactType\": \"customer service\"\\n              }\\n            ],\\n            \"sameAs\": [\\n              \"https://www.facebook.com/\"\\n            ]\\n          },\\n          {\\n            \"@context\": \"http://schema.org\",\\n            \"@type\": \"WebSite\",\\n            \"name\": \"\",\\n            \"url\": \"\",\\n            \"potentialAction\": {\\n              \"@type\": \"SearchAction\",\\n              \"target\": \"alles-zoeken?trefwoord={search_term_string}\",\\n              \"query-input\": \"required name=search_term_string\"\\n            }\\n          }\\n        ]\\n      }\\n    </script>\\n\\n    \\n    <!-- Global site tag (gtag.js) - Google Analytics -->\\n    <script async src=\"https://www.googletagmanager.com/gtag/js?id=UA-6532219-54\"></script>\\n    <script>\\n        window.dataLayer = window.dataLayer || [];\\n        function gtag(){dataLayer.push(arguments);}\\n        gtag(\\'js\\', new Date());\\n        gtag(\\'config\\', \\'UA-6532219-54\\', {\\n\\t\\t\\t\\t\\tcookie_flags: \\'max-age=7200;secure;samesite=none\\'\\n\\t\\t});\\n    </script>\\n    </head>\\n<body class=\"sub-pages com_genealogy\">\\n<!-- HEADER -->\\n<header class=\"pic-mainheader mainheader\">\\n    <div class=\"grid-container\">\\n        <div class=\"grid-x\">\\n            <div class=\"small-12 cell\">\\n                <h1 class=\"pic-logo\"><a href=\"https://www.amsterdam.nl/stadsarchief\" target=\"blank\" class=\"pic-logo--name\" title=\"Gemeente Amsterdam Stadsarchief - home\">Website title and logo</a></h1>\\n                <nav class=\"pic-mainmenu\">\\n                    <div id=\"nav-button\"  class=\"hamburger-menu\" data-responsive-toggle=\"mainmenu\" data-hide-for=\"medium\">\\n                        <button class=\"menu-icon\" type=\"button\" data-toggle>\\n                            <span></span>\\n                            <span></span>\\n                            <span></span>\\n                            <span></span>\\n                        </button>\\n                    </div>\\n                    <div class=\"pic-mainmenu__menu\" id=\"mainmenu\"\\n                         data-responsive-menu=\"accordion medium-dropdown\"\\n                         data-disable-hover=\"true\"\\n                         data-click-open=\"true\">\\n                        <ul class=\"nav menu mod-list\" id=\"main-menu\">\\n<li class=\"item-101 default\"><a href=\"/\" >Home</a></li><li class=\"item-314\"><a href=\"/inventarissen\" >Inventarissen</a></li><li class=\"item-157 current active\"><a href=\"/indexen\" >Indexen</a></li><li class=\"item-348\"><a href=\"/beeldbank\" title=\"Beeldbank\">Beeldbank</a></li><li class=\"item-3739\"><a href=\"/bouwdossiers\" >Bouwdossiers</a></li><li class=\"item-1457 parent\"><a href=\"/uitleg\" >Uitleg</a></li></ul>\\n\\n                    </div>\\n\\n                    <!--user login-->\\n                                    </nav>\\n\\n                <!-- position for other modules (chat, search, social)-->\\n                <div class=\"pic-mainheader__headerposition\"></div>\\n            </div>\\n        </div>\\n    </div>\\n</header>\\n<!-- HOMEPAGE TEASER - jumbotron! -->\\n<!-- CONTENT --->\\n    <div class=\"pic-content\">\\n        <div class=\"pic-teaser\">\\n            <div class=\"pic-teaser__teaserposition\">\\n                <!-- FULL ARTICLE IMAGE -->\\n                <div class=\"random-image\" style=\"background-image: url(/images/indexen-header/indexen-header.jpg);\">\\n\\t&nbsp;\\n</div>\\n\\n            </div>\\n        </div>\\n        <div class =\"grid-container\">\\n            <div class=\"grid-x grid-margin-x\">\\n                <div class=\"small-12 cell\">\\n                    <div class=\"breadcrumb\">\\n                        <div aria-label=\"breadcrumbs\" role=\"navigation\">\\n\\t<ul itemscope itemtype=\"https://schema.org/BreadcrumbList\" class=\"breadcrumb\">\\n\\t\\t\\t\\t\\t<li class=\"active\">\\n\\t\\t\\t\\t<span class=\"divider icon-location\"></span>\\n\\t\\t\\t</li>\\n\\t\\t\\n\\t\\t\\t\\t\\t\\t<li itemprop=\"itemListElement\" itemscope itemtype=\"https://schema.org/ListItem\" class=\"active\">\\n\\t\\t\\t\\t\\t<span itemprop=\"name\">\\n\\t\\t\\t\\t\\t\\tIndexen\\t\\t\\t\\t\\t</span>\\n\\t\\t\\t\\t\\t<meta itemprop=\"position\" content=\"1\">\\n\\t\\t\\t\\t</li>\\n\\t\\t\\t\\t</ul>\\n</div>\\n\\n                    </div>\\n                </div>\\n                <!-- THE LINE BELOW IS A TOGGLE, IF THE PAGE IS AN ARTICLE WITH A SIDEBAR MAX WITH IS 10 IF ITS NOT ITS 12 -->\\n                <div class=\"small-12 large-12 cell\">\\n                    <div class=\"pic-content__component\">\\n                        \\n    <!--[if lte IE 9]>\\n    <script src=\"https://webservices.picturae.com/genealogy/js/xdomain/xdomain.min.js\"></script>\\n    <script>\\n        xdomain.slaves({\\n            \"https://webservices.picturae.com\": \"/genealogy/proxy.html\"\\n        });\\n    </script>\\n    <script>\\n    (function () {\\n        var baseHref = document.querySelector(\\'head base\\').getAttribute(\\'href\\');\\n        if (!history.pushState && window.location.href.indexOf(\\'#\\') === -1) {\\n            window.location.replace(baseHref + \\'#/\\' + window.location.hash);\\n        }\\n    }());\\n    </script>\\n    <![endif]-->\\n\\n    <div id=\"pic-genealogy\"\\n         data-ui-view\\n         data-url=\"https://webservices.picturae.com/genealogy/\"\\n         data-api-key=\"eb37e65a-eb47-11e9-b95c-60f81db16c0e\"\\n         data-pagination-rows=\"25\"\\n\\t\\t\\t\\t data-recordsperpage=\"true\"\\n         data-language=\"nl_NL\"\\n         data-button-request=\"true\"\\n         data-smoothscroll=\"true\"\\n         data-date-format=\"dd-MM-yyyy\"\\n         data-default-view=\"persons\"\\n         data-facet-sort=\"count\"\\n         data-form-settings=\\'{\"error\": {\"defaults\": {\"subject\": \"\"}},\"request\": {\"defaults\": {\"subject\": \"\"}}}\\'\\n         data-highlight=\"false\"         data-heatmap=\"false\"                  data-form-help-persons=\"/slim-zoeken-indexen-hulp?tmpl=raw\"                           ></div>\\n\\n                    </div>\\n                </div>\\n                <!-- THE LINE BELOW IS A TOGGLE  WHEN SHOULD THERE BE A SIDEBAR MENU, AND WHEN NOT. IN THIS CASE ONLY ON ARTICLE PAGES -->\\n                            </div>\\n        </div>\\n    </div>\\n<footer id=\"footer\" class=\"pic-mainfooter\">\\n    <div class=\"grid-container\">\\n        <div class=\"grid-x\">\\n            <div class=\"small-12 medium-4 cell pic-mainfooter__content\">\\t\\t<div class=\"moduletable\">\\n\\n\\t\\t\\t\\t\\t<h2>Stadsarchief</h2>\\n\\t\\t\\n\\t\\t\\t\\n\\n<div class=\"custom\"  >\\n\\t<p>Het Stadsarchief Amsterdam is het historisch documentatie- centrum van de stad Amsterdam met 50 kilometer archieven, een historisch- topografische collectie met miljoenen kaarten, tekeningen, en prenten, een bibliotheek en omvangrijke geluids-, film- en fotoarchieven.</p>\\r\\n<p><a href=\"https://www.amsterdam.nl/stadsarchief\" target=\"blank\">www.amsterdam.nl/stadsarchief</a></p>\\r\\n<p>Heeft u een korte vraag? Chat met ons! De chat is beschikbaar van maandag t/m vrijdag van 13.00-17.00 uur en op donderdagavond tussen 20.00-22.00 uur</p>\\r\\n<p>Heeft u een langere vraag? Stuur ons een e-mail op <a href=\"mailto:stadsarchief@amsterdam.nl\">stadsarchief@amsterdam.nl</a></p></div>\\n\\n\\t\\t</div>\\n\\n\\t</div>\\n            <div class=\"small-12 medium-4 cell\">\\t\\t<div class=\"moduletable\">\\n\\n\\t\\t\\t\\t\\t<h2>Meer informatie</h2>\\n\\t\\t\\n\\t\\t\\t<ul class=\"nav menu footer-menu mod-list\">\\n<li class=\"item-125\"><a href=\"/disclaimer\" >disclaimer</a></li><li class=\"item-3129\"><a href=\"/nieuwsbrief\" >nieuwsbrief</a></li><li class=\"item-3248\"><a href=\"/blog\" >blog</a></li><li class=\"item-3603\"><a href=\"/steun-ons\" >steun ons</a></li><li class=\"item-4005\"><a href=\"/privacy\" >privacy</a></li><li class=\"item-4007\"><a href=\"/cookies2\" >cookies</a></li></ul>\\n\\n\\t\\t</div>\\n\\n\\t</div>\\n            <div class=\"small-12 medium-4 cell\">\\t\\t<div class=\"moduletable pic-social\">\\n\\n\\t\\t\\t\\t\\t<h2>Social</h2>\\n\\t\\t\\n\\t\\t\\t<ul class=\"nav menu pic-social__menu mod-list\">\\n<li class=\"item-126\"><a href=\"https://www.facebook.com/Stadsarchief\" class=\"pic-social__menu--facebook\" target=\"_blank\" rel=\"noopener noreferrer\">facebook</a></li><li class=\"item-127\"><a href=\"https://twitter.com/stadsarchief\" class=\"pic-social__menu--twitter\" target=\"_blank\" rel=\"noopener noreferrer\">twitter</a></li><li class=\"item-129\"><a href=\"https://www.instagram.com/stadsarchief/?hl=nl\" class=\"pic-social__menu--instagram\" target=\"_blank\" rel=\"noopener noreferrer\">instagram</a></li><li class=\"item-131\"><a href=\"https://www.youtube.com/channel/UC8yXCStt4F-7iiv2CeOfwPg\" class=\"pic-social__menu--youtube\" target=\"_blank\" rel=\"noopener noreferrer\">youtube</a></li></ul>\\n\\n\\t\\t</div>\\n\\n\\t</div>\\n        </div>\\n    </div>\\n    <div class=\"pic-mainfooter__bottom\">\\n        <div class=\"grid-container\">\\n            <div class=\"grid-x\">\\n                <div class=\"small-12 cell pic-mainfooter__bottom--content\">\\n                    \\t\\t<div class=\"moduletable\">\\n\\n\\t\\t\\n\\t\\t\\t<ul class=\"nav menu mod-list\">\\n<li class=\"item-2422\"><a href=\"http://amsterdam.archiefweb.eu/?subsite=stadsarchief#archive\" target=\"_blank\" rel=\"noopener noreferrer\">Webarchief</a></li></ul>\\n\\n\\t\\t</div>\\n\\n\\t\\n                    <span class=\"picturae-link\">Realisatie: <a href=\"https://picturae.com/nl/\" target=\"blank\">Picturae</a></span>\\n                </div>\\n            </div>\\n        </div>\\n    </div>\\n</footer>\\n<script src=\"/templates/ams/dist/main.f76aa8f9b1653d62b3ad.js\"></script>\\n</body>\\n</html>\\n'"
      ]
     },
     "execution_count": 7,
     "metadata": {},
     "output_type": "execute_result"
    }
   ],
   "source": [
    "response.text"
   ]
  },
  {
   "cell_type": "code",
   "execution_count": 11,
   "metadata": {},
   "outputs": [
    {
     "name": "stdout",
     "output_type": "stream",
     "text": [
      "Failed to retrieve data: Status code 403\n"
     ]
    }
   ],
   "source": [
    "# API details\n",
    "base_url = \"https://webservices.picturae.com/genealogy/\"\n",
    "api_key = \"eb37e65a-eb47-11e9-b95c-60f81db16c0e\"\n",
    "params = {\n",
    "    \"paginationRows\": 25,\n",
    "    \"recordsPerPage\": \"true\",\n",
    "    \"language\": \"nl_NL\",\n",
    "    \"defaultView\": \"persons\",\n",
    "    \"facetSort\": \"count\",\n",
    "    # Add other parameters as needed\n",
    "}\n",
    "\n",
    "# Headers with the API key\n",
    "headers = {\n",
    "    \"api-key\": api_key\n",
    "}\n",
    "\n",
    "# Making the API request\n",
    "response = requests.get(base_url, headers=headers, params=params)\n",
    "\n",
    "# Checking the response\n",
    "if response.status_code == 200:\n",
    "    # Process the successful response\n",
    "    data = response.json()\n",
    "    print(data)\n",
    "else:\n",
    "    # Handle errors\n",
    "    print(\"Failed to retrieve data: Status code\", response.status_code)\n"
   ]
  },
  {
   "cell_type": "code",
   "execution_count": 12,
   "metadata": {},
   "outputs": [
    {
     "data": {
      "text/plain": [
       "{'code': 403, 'message': 'Hold on there chef your api key is missing'}"
      ]
     },
     "execution_count": 12,
     "metadata": {},
     "output_type": "execute_result"
    }
   ],
   "source": [
    "response.json()"
   ]
  },
  {
   "cell_type": "code",
   "execution_count": null,
   "metadata": {},
   "outputs": [],
   "source": []
  }
 ],
 "metadata": {
  "kernelspec": {
   "display_name": "venv",
   "language": "python",
   "name": "python3"
  },
  "language_info": {
   "codemirror_mode": {
    "name": "ipython",
    "version": 3
   },
   "file_extension": ".py",
   "mimetype": "text/x-python",
   "name": "python",
   "nbconvert_exporter": "python",
   "pygments_lexer": "ipython3",
   "version": "3.10.12"
  }
 },
 "nbformat": 4,
 "nbformat_minor": 2
}
