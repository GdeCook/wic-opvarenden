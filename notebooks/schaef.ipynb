{
 "cells": [
  {
   "cell_type": "code",
   "execution_count": 1,
   "metadata": {},
   "outputs": [],
   "source": [
    "import sys\n",
    "sys.path.append(\"../src\")\n",
    "\n",
    "from wic_opvarenden import DeedProcessor, SailorExtractor\n",
    "\n",
    "import datetime\n",
    "import pandas as pd"
   ]
  },
  {
   "cell_type": "code",
   "execution_count": 2,
   "metadata": {},
   "outputs": [],
   "source": [
    "deedprocessor = DeedProcessor()\n",
    "deedprocessor.load_from_csv(\"../data/index/schaef_transport_20230329.csv\")\n",
    "list = deedprocessor.get_all_deeds()"
   ]
  },
  {
   "cell_type": "code",
   "execution_count": 3,
   "metadata": {},
   "outputs": [],
   "source": [
    "sailorextractor = SailorExtractor(list[1:5])"
   ]
  },
  {
   "cell_type": "code",
   "execution_count": 4,
   "metadata": {},
   "outputs": [
    {
     "name": "stderr",
     "output_type": "stream",
     "text": [
      "INFO:wic_opvarenden:Process MainProcess: Extracting sailors from deed 1 of 25\n",
      "INFO:wic_opvarenden:Process MainProcess: Extracting sailors from deed 2 of 25\n",
      "INFO:wic_opvarenden:Process MainProcess: Extracting sailors from deed 3 of 25\n",
      "INFO:wic_opvarenden:Process MainProcess: Extracting sailors from deed 4 of 25\n",
      "ERROR:wic_opvarenden:Process MainProcess: The file for the deed with number 4 has not been found.\n",
      "INFO:wic_opvarenden:Process MainProcess: Extracting sailors from deed 5 of 25\n",
      "INFO:wic_opvarenden:Process MainProcess: Extracting sailors from deed 6 of 25\n",
      "INFO:wic_opvarenden:Process MainProcess: Extracting sailors from deed 7 of 25\n",
      "INFO:wic_opvarenden:Process MainProcess: Extracting sailors from deed 8 of 25\n",
      "INFO:wic_opvarenden:Process MainProcess: Extracting sailors from deed 9 of 25\n",
      "INFO:wic_opvarenden:Process MainProcess: Extracting sailors from deed 10 of 25\n",
      "INFO:wic_opvarenden:Process MainProcess: Extracting sailors from deed 11 of 25\n",
      "INFO:wic_opvarenden:Process MainProcess: Extracting sailors from deed 12 of 25\n",
      "INFO:wic_opvarenden:Process MainProcess: Extracting sailors from deed 13 of 25\n",
      "INFO:wic_opvarenden:Process MainProcess: Extracting sailors from deed 14 of 25\n",
      "INFO:wic_opvarenden:Process MainProcess: Extracting sailors from deed 15 of 25\n",
      "INFO:wic_opvarenden:Process MainProcess: Extracting sailors from deed 16 of 25\n",
      "INFO:wic_opvarenden:Process MainProcess: Extracting sailors from deed 17 of 25\n",
      "INFO:wic_opvarenden:Process MainProcess: Extracting sailors from deed 18 of 25\n",
      "INFO:wic_opvarenden:Process MainProcess: Extracting sailors from deed 19 of 25\n",
      "INFO:wic_opvarenden:Process MainProcess: Extracting sailors from deed 20 of 25\n",
      "INFO:wic_opvarenden:Process MainProcess: Extracting sailors from deed 21 of 25\n",
      "INFO:wic_opvarenden:Process MainProcess: Extracting sailors from deed 22 of 25\n",
      "INFO:wic_opvarenden:Process MainProcess: Extracting sailors from deed 23 of 25\n",
      "INFO:wic_opvarenden:Process MainProcess: Extracting sailors from deed 24 of 25\n",
      "INFO:wic_opvarenden:Process MainProcess: Extracting sailors from deed 25 of 25\n"
     ]
    }
   ],
   "source": [
    "opvarenden = sailorextractor.extract_sailors()"
   ]
  },
  {
   "cell_type": "code",
   "execution_count": 10,
   "metadata": {},
   "outputs": [],
   "source": [
    "# Turn extracted into a dataframe\n",
    "sailor_dicts = []\n",
    "for sailor in opvarenden:\n",
    "    sailor_dict = {\n",
    "        'deed_uri': sailor.deed.deed_uri,\n",
    "        'deed_date': sailor.deed.date,\n",
    "        'name': sailor.name,\n",
    "        'location': sailor.location,\n",
    "        'role': sailor.role,\n",
    "        'organization': sailor.organization,\n",
    "        'ship_name': sailor.shipname,\n",
    "        'location_htr': sailor.location_htr,\n",
    "        'role_htr': sailor.role_htr,\n",
    "        'organization_htr': sailor.organization_htr,\n",
    "        'ship_name_htr': sailor.shipname_htr,\n",
    "        'creditor_name': sailor.creditor_name,\n",
    "        'debt_amount': sailor.debt_htr,\n",
    "        'sailor_uri': sailor.sailor_uri,\n",
    "        'creditor_uri': sailor.creditor_uri,\n",
    "        'location_uri': sailor.location_uri,\n",
    "        'interesting_text': sailor.check['interesting_text'],\n",
    "        'interesting_text_after': sailor.check['interesting_text_after'],\n",
    "        'possible_names': sailor.check['possible_person_labels'],\n",
    "        'possible_locations': sailor.check['possible_location_labels'],\n",
    "        'subject': sailor.check['subject'],\n",
    "        'text': sailor.check['full_text'],\n",
    "        'full_coords': sailor.check['full_coords'],\n",
    "        'dimensions': sailor.check['dimensions'],\n",
    "    }\n",
    "    sailor_dicts.append(sailor_dict)\n",
    "\n",
    "    sailors_df = pd.DataFrame(sailor_dicts)"
   ]
  }
 ],
 "metadata": {
  "kernelspec": {
   "display_name": "venv",
   "language": "python",
   "name": "python3"
  },
  "language_info": {
   "codemirror_mode": {
    "name": "ipython",
    "version": 3
   },
   "file_extension": ".py",
   "mimetype": "text/x-python",
   "name": "python",
   "nbconvert_exporter": "python",
   "pygments_lexer": "ipython3",
   "version": "3.10.12"
  },
  "orig_nbformat": 4
 },
 "nbformat": 4,
 "nbformat_minor": 2
}
