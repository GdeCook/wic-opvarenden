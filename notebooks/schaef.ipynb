{
 "cells": [
  {
   "cell_type": "code",
   "execution_count": 1,
   "metadata": {},
   "outputs": [],
   "source": [
    "import sys\n",
    "sys.path.append(\"../src\")\n",
    "\n",
    "from opvarenden import DeedProcessor, SailorExtractor"
   ]
  },
  {
   "cell_type": "code",
   "execution_count": 2,
   "metadata": {},
   "outputs": [],
   "source": [
    "deedprocessor = DeedProcessor()\n",
    "deedprocessor.load_from_csv(\"../data/index/schaef_transport_20230329.csv\")\n",
    "list = deedprocessor.get_all_deeds()"
   ]
  },
  {
   "cell_type": "code",
   "execution_count": 5,
   "metadata": {},
   "outputs": [],
   "source": [
    "sailorextractor = SailorExtractor(list[:10])"
   ]
  },
  {
   "cell_type": "code",
   "execution_count": 7,
   "metadata": {},
   "outputs": [
    {
     "name": "stdout",
     "output_type": "stream",
     "text": [
      "Extracting sailors from deed 10 of 10\r"
     ]
    }
   ],
   "source": [
    "opvarenden = sailorextractor.extract_sailors()"
   ]
  },
  {
   "cell_type": "code",
   "execution_count": 10,
   "metadata": {},
   "outputs": [
    {
     "data": {
      "text/plain": [
       "['__class__',\n",
       " '__delattr__',\n",
       " '__dict__',\n",
       " '__dir__',\n",
       " '__doc__',\n",
       " '__eq__',\n",
       " '__format__',\n",
       " '__ge__',\n",
       " '__getattribute__',\n",
       " '__gt__',\n",
       " '__hash__',\n",
       " '__init__',\n",
       " '__init_subclass__',\n",
       " '__le__',\n",
       " '__lt__',\n",
       " '__module__',\n",
       " '__ne__',\n",
       " '__new__',\n",
       " '__reduce__',\n",
       " '__reduce_ex__',\n",
       " '__repr__',\n",
       " '__setattr__',\n",
       " '__sizeof__',\n",
       " '__str__',\n",
       " '__subclasshook__',\n",
       " '__weakref__',\n",
       " 'check',\n",
       " 'deed',\n",
       " 'location',\n",
       " 'location_htr',\n",
       " 'location_uri',\n",
       " 'name',\n",
       " 'organization',\n",
       " 'organization_htr',\n",
       " 'role',\n",
       " 'role_htr',\n",
       " 'sailor_uri',\n",
       " 'shipname',\n",
       " 'shipname_htr']"
      ]
     },
     "execution_count": 10,
     "metadata": {},
     "output_type": "execute_result"
    }
   ],
   "source": [
    "dir(opvarenden[0])"
   ]
  },
  {
   "cell_type": "code",
   "execution_count": 17,
   "metadata": {},
   "outputs": [
    {
     "data": {
      "text/plain": [
       "{'deed': <opvarenden.Deed at 0x7f3a4ac01480>,\n",
       " 'sailor_uri': 'https://archief.amsterdam/indexen/deeds/d0092ad0-9919-1a7b-e053-b784100aab8a?person=123020bd-a145-88e7-3a32-879f2e3f4cec',\n",
       " 'name': 'Frans Scherhoen',\n",
       " 'location': None,\n",
       " 'location_uri': None,\n",
       " 'location_htr': 'Roesbiug',\n",
       " 'role': 'soldaat',\n",
       " 'role_htr': None,\n",
       " 'organization': 'WIC',\n",
       " 'organization_htr': None,\n",
       " 'shipname': None,\n",
       " 'shipname_htr': 'Stant van',\n",
       " 'check': {'interesting_text': '. ende In presentie etc. Frans Schekoen van Roesbiug Teelofte Soldaet ',\n",
       "  'interesting_text_after': 'opt Schip Stant van In dienst etc. Ende bekende etc. schuldich te wesen aen Andrietgen Barents ',\n",
       "  'possible_person_labels': ['Frans Scherhoen',\n",
       "   'Pr Pietersz Draeijer',\n",
       "   'Annetgen Barents'],\n",
       "  'possible_location_labels': ['Roesbrugge'],\n",
       "  'subject': 'Soldaat, WIC.',\n",
       "  'full_text': \"Op Huijden den 14en. Januarij 1636 e ontrent halff nunnen voor noen. Compe. ende In presentie etc. Frans Schekoen van Roesbiug Teelofte Soldaet opt Schip Stant van In dienst etc. Ende bekende etc. schuldich te wesen aen Andrietgen Barents huijsvrou van Pr. Pietersz draeijer, desomme van Eenhondert sar: gl. Doer veiteerde P tot uijtansti soste ende verschoor pden ence  het adsignad. ende transpat etc. Onder verbant etc. Gedaen t' Amsterdam ter presentie van Adian als schagen ende Gerrit Jansz\",\n",
       "  'full_coords': [[18, 134], [2533, 134], [2533, 1746], [18, 1746]],\n",
       "  'dimensions': [2605, 3958]}}"
      ]
     },
     "execution_count": 17,
     "metadata": {},
     "output_type": "execute_result"
    }
   ],
   "source": [
    "opvarenden[1].__dict__"
   ]
  },
  {
   "cell_type": "code",
   "execution_count": null,
   "metadata": {},
   "outputs": [],
   "source": []
  }
 ],
 "metadata": {
  "kernelspec": {
   "display_name": "venv",
   "language": "python",
   "name": "python3"
  },
  "language_info": {
   "codemirror_mode": {
    "name": "ipython",
    "version": 3
   },
   "file_extension": ".py",
   "mimetype": "text/x-python",
   "name": "python",
   "nbconvert_exporter": "python",
   "pygments_lexer": "ipython3",
   "version": "3.10.6"
  },
  "orig_nbformat": 4
 },
 "nbformat": 4,
 "nbformat_minor": 2
}
