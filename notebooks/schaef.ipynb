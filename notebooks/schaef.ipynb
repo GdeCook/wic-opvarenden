{
 "cells": [
  {
   "cell_type": "code",
   "execution_count": 13,
   "metadata": {},
   "outputs": [],
   "source": [
    "import sys\n",
    "sys.path.append(\"../src\")\n",
    "\n",
    "from opvarenden import DeedProcessor, SailorExtractor\n",
    "\n",
    "import datetime\n",
    "import pandas as pd"
   ]
  },
  {
   "cell_type": "code",
   "execution_count": 2,
   "metadata": {},
   "outputs": [],
   "source": [
    "deedprocessor = DeedProcessor()\n",
    "deedprocessor.load_from_csv(\"../data/index/schaef_transport_20230329.csv\")\n",
    "list = deedprocessor.get_all_deeds()"
   ]
  },
  {
   "cell_type": "code",
   "execution_count": 3,
   "metadata": {},
   "outputs": [],
   "source": [
    "sailorextractor = SailorExtractor(list)"
   ]
  },
  {
   "cell_type": "code",
   "execution_count": 4,
   "metadata": {},
   "outputs": [
    {
     "name": "stdout",
     "output_type": "stream",
     "text": [
      "File not found!ors from deed 3449 of 8049\n",
      "File not found!ors from deed 4978 of 8049\n",
      "Extracting sailors from deed 8049 of 8049\r"
     ]
    }
   ],
   "source": [
    "opvarenden = sailorextractor.extract_sailors()"
   ]
  },
  {
   "cell_type": "code",
   "execution_count": 11,
   "metadata": {},
   "outputs": [],
   "source": [
    "# Turn extracted into a dataframe\n",
    "sailor_dicts = []\n",
    "for sailor in opvarenden:\n",
    "    sailor_dict = {\n",
    "        'deed_uri': sailor.deed.deed_uri,\n",
    "        'deed_date': sailor.deed.date,\n",
    "        'name': sailor.name,\n",
    "        'location': sailor.location,\n",
    "        'role': sailor.role,\n",
    "        'organization': sailor.organization,\n",
    "        'ship_name': sailor.shipname,\n",
    "        'location_htr': sailor.location_htr,\n",
    "        'role_htr': sailor.role_htr,\n",
    "        'organization_htr': sailor.organization_htr,\n",
    "        'ship_name_htr': sailor.shipname_htr,\n",
    "        'debtor_name': sailor.debtor_name,\n",
    "        'debt_amount': sailor.debt_htr,\n",
    "        'sailor_uri': sailor.sailor_uri,\n",
    "        'debtor_uri': sailor.debtor_uri,\n",
    "        'location_uri': sailor.location_uri,\n",
    "        'interesting_text': sailor.check['interesting_text'],\n",
    "        'interesting_text_after': sailor.check['interesting_text_after'],\n",
    "        'possible_names': sailor.check['possible_person_labels'],\n",
    "        'possible_locations': sailor.check['possible_location_labels'],\n",
    "        'subject': sailor.check['subject'],\n",
    "        'text': sailor.check['full_text'],\n",
    "        'full_coords': sailor.check['full_coords'],\n",
    "        'dimensions': sailor.check['dimensions'],\n",
    "    }\n",
    "    sailor_dicts.append(sailor_dict)\n",
    "\n",
    "    sailors_df = pd.DataFrame(sailor_dicts)"
   ]
  },
  {
   "cell_type": "code",
   "execution_count": 12,
   "metadata": {},
   "outputs": [],
   "source": [
    "# store sailors as a csv\n",
    "current_datetime = datetime.datetime.now().strftime(\"%Y%m%d-%H%M%S\")\n",
    "\n",
    "sailors_df.index.name = 'no.'\n",
    "sailors_df.to_csv(f'sailors-{current_datetime}.csv')"
   ]
  }
 ],
 "metadata": {
  "kernelspec": {
   "display_name": "venv",
   "language": "python",
   "name": "python3"
  },
  "language_info": {
   "codemirror_mode": {
    "name": "ipython",
    "version": 3
   },
   "file_extension": ".py",
   "mimetype": "text/x-python",
   "name": "python",
   "nbconvert_exporter": "python",
   "pygments_lexer": "ipython3",
   "version": "3.10.6"
  },
  "orig_nbformat": 4
 },
 "nbformat": 4,
 "nbformat_minor": 2
}
