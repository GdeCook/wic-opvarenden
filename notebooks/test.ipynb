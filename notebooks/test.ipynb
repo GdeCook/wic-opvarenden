{
 "cells": [
  {
   "cell_type": "code",
   "execution_count": 1,
   "metadata": {},
   "outputs": [],
   "source": [
    "import sys\n",
    "sys.path.append(\"../src\")\n",
    "\n",
    "from wic_opvarenden import DeedProcessor, SailorExtractor\n",
    "\n",
    "import datetime\n",
    "import pandas as pd"
   ]
  },
  {
   "cell_type": "code",
   "execution_count": 2,
   "metadata": {},
   "outputs": [],
   "source": [
    "deedprocessor = DeedProcessor()\n",
    "deedprocessor.load_from_csv(\"../data/index/schaef_transport_20230329.csv\")\n",
    "list = deedprocessor.get_all_deeds()"
   ]
  },
  {
   "cell_type": "code",
   "execution_count": 3,
   "metadata": {},
   "outputs": [],
   "source": [
    "test = SailorExtractor(list)"
   ]
  },
  {
   "cell_type": "code",
   "execution_count": 4,
   "metadata": {},
   "outputs": [
    {
     "name": "stdout",
     "output_type": "stream",
     "text": [
      "Unexpected exception formatting exception. Falling back to standard exception\n"
     ]
    },
    {
     "name": "stderr",
     "output_type": "stream",
     "text": [
      "Traceback (most recent call last):\n",
      "  File \"/home/gerhard/programming/python/wic-opvarenden/venv/lib/python3.10/site-packages/IPython/core/interactiveshell.py\", line 3508, in run_code\n",
      "    exec(code_obj, self.user_global_ns, self.user_ns)\n",
      "  File \"/tmp/ipykernel_9207/4184253786.py\", line 1, in <module>\n",
      "    test.test_sailors()\n",
      "  File \"/home/gerhard/programming/python/wic-opvarenden/notebooks/../src/wic_opvarenden.py\", line 486, in test_sailors\n",
      "  File \"/home/gerhard/programming/python/wic-opvarenden/venv/lib/python3.10/site-packages/fuzzy_search/fuzzy_phrase_searcher.py\", line 732, in find_matches\n",
      "    candidates = self.find_candidates(text, use_word_boundaries=use_word_boundaries,\n",
      "  File \"/home/gerhard/programming/python/wic-opvarenden/venv/lib/python3.10/site-packages/fuzzy_search/fuzzy_phrase_searcher.py\", line 626, in find_candidates\n",
      "    candidates = get_skipmatch_candidates(text, skip_matches, self.skipgram_threshold, self.phrase_model,\n",
      "  File \"/home/gerhard/programming/python/wic-opvarenden/venv/lib/python3.10/site-packages/fuzzy_search/fuzzy_phrase_searcher.py\", line 234, in get_skipmatch_candidates\n",
      "    phrase_candidates[match_phrase] += get_skipmatch_phrase_candidates(text, phrase, skip_matches,\n",
      "  File \"/home/gerhard/programming/python/wic-opvarenden/venv/lib/python3.10/site-packages/fuzzy_search/fuzzy_phrase_searcher.py\", line 175, in get_skipmatch_phrase_candidates\n",
      "    candidates.append(copy.deepcopy(candidate))\n",
      "  File \"/usr/lib/python3.10/copy.py\", line 172, in deepcopy\n",
      "    y = _reconstruct(x, memo, *rv)\n",
      "  File \"/usr/lib/python3.10/copy.py\", line 271, in _reconstruct\n",
      "    state = deepcopy(state, memo)\n",
      "  File \"/usr/lib/python3.10/copy.py\", line 146, in deepcopy\n",
      "    y = copier(x, memo)\n",
      "  File \"/usr/lib/python3.10/copy.py\", line 231, in _deepcopy_dict\n",
      "    y[deepcopy(key, memo)] = deepcopy(value, memo)\n",
      "  File \"/usr/lib/python3.10/copy.py\", line 172, in deepcopy\n",
      "    y = _reconstruct(x, memo, *rv)\n",
      "  File \"/usr/lib/python3.10/copy.py\", line 271, in _reconstruct\n",
      "    state = deepcopy(state, memo)\n",
      "  File \"/usr/lib/python3.10/copy.py\", line 146, in deepcopy\n",
      "    y = copier(x, memo)\n",
      "  File \"/usr/lib/python3.10/copy.py\", line 231, in _deepcopy_dict\n",
      "    y[deepcopy(key, memo)] = deepcopy(value, memo)\n",
      "  File \"/usr/lib/python3.10/copy.py\", line 172, in deepcopy\n",
      "    y = _reconstruct(x, memo, *rv)\n",
      "  File \"/usr/lib/python3.10/copy.py\", line 297, in _reconstruct\n",
      "    value = deepcopy(value, memo)\n",
      "  File \"/usr/lib/python3.10/copy.py\", line 146, in deepcopy\n",
      "    y = copier(x, memo)\n",
      "  File \"/usr/lib/python3.10/copy.py\", line 206, in _deepcopy_list\n",
      "    append(deepcopy(a, memo))\n",
      "  File \"/usr/lib/python3.10/copy.py\", line 172, in deepcopy\n",
      "    y = _reconstruct(x, memo, *rv)\n",
      "  File \"/usr/lib/python3.10/copy.py\", line 265, in _reconstruct\n",
      "    y = func(*args)\n",
      "  File \"/usr/lib/python3.10/copyreg.py\", line 101, in __newobj__\n",
      "    return cls.__new__(cls, *args)\n",
      "KeyboardInterrupt\n",
      "\n",
      "During handling of the above exception, another exception occurred:\n",
      "\n",
      "Traceback (most recent call last):\n",
      "  File \"/home/gerhard/programming/python/wic-opvarenden/venv/lib/python3.10/site-packages/IPython/core/interactiveshell.py\", line 2105, in showtraceback\n",
      "    stb = self.InteractiveTB.structured_traceback(\n",
      "  File \"/home/gerhard/programming/python/wic-opvarenden/venv/lib/python3.10/site-packages/IPython/core/ultratb.py\", line 1428, in structured_traceback\n",
      "    return FormattedTB.structured_traceback(\n",
      "  File \"/home/gerhard/programming/python/wic-opvarenden/venv/lib/python3.10/site-packages/IPython/core/ultratb.py\", line 1319, in structured_traceback\n",
      "    return VerboseTB.structured_traceback(\n",
      "  File \"/home/gerhard/programming/python/wic-opvarenden/venv/lib/python3.10/site-packages/IPython/core/ultratb.py\", line 1172, in structured_traceback\n",
      "    formatted_exception = self.format_exception_as_a_whole(etype, evalue, etb, number_of_lines_of_context,\n",
      "  File \"/home/gerhard/programming/python/wic-opvarenden/venv/lib/python3.10/site-packages/IPython/core/ultratb.py\", line 1087, in format_exception_as_a_whole\n",
      "    frames.append(self.format_record(record))\n",
      "  File \"/home/gerhard/programming/python/wic-opvarenden/venv/lib/python3.10/site-packages/IPython/core/ultratb.py\", line 969, in format_record\n",
      "    frame_info.lines, Colors, self.has_colors, lvals\n",
      "  File \"/home/gerhard/programming/python/wic-opvarenden/venv/lib/python3.10/site-packages/IPython/core/ultratb.py\", line 792, in lines\n",
      "    return self._sd.lines\n",
      "  File \"/home/gerhard/programming/python/wic-opvarenden/venv/lib/python3.10/site-packages/stack_data/utils.py\", line 144, in cached_property_wrapper\n",
      "    value = obj.__dict__[self.func.__name__] = self.func(obj)\n",
      "  File \"/home/gerhard/programming/python/wic-opvarenden/venv/lib/python3.10/site-packages/stack_data/core.py\", line 734, in lines\n",
      "    pieces = self.included_pieces\n",
      "  File \"/home/gerhard/programming/python/wic-opvarenden/venv/lib/python3.10/site-packages/stack_data/utils.py\", line 144, in cached_property_wrapper\n",
      "    value = obj.__dict__[self.func.__name__] = self.func(obj)\n",
      "  File \"/home/gerhard/programming/python/wic-opvarenden/venv/lib/python3.10/site-packages/stack_data/core.py\", line 681, in included_pieces\n",
      "    pos = scope_pieces.index(self.executing_piece)\n",
      "  File \"/home/gerhard/programming/python/wic-opvarenden/venv/lib/python3.10/site-packages/stack_data/utils.py\", line 144, in cached_property_wrapper\n",
      "    value = obj.__dict__[self.func.__name__] = self.func(obj)\n",
      "  File \"/home/gerhard/programming/python/wic-opvarenden/venv/lib/python3.10/site-packages/stack_data/core.py\", line 660, in executing_piece\n",
      "    return only(\n",
      "  File \"/home/gerhard/programming/python/wic-opvarenden/venv/lib/python3.10/site-packages/executing/executing.py\", line 190, in only\n",
      "    raise NotOneValueFound('Expected one value, found 0')\n",
      "executing.executing.NotOneValueFound: Expected one value, found 0\n"
     ]
    }
   ],
   "source": [
    "test.test_sailors()"
   ]
  },
  {
   "cell_type": "code",
   "execution_count": null,
   "metadata": {},
   "outputs": [],
   "source": []
  }
 ],
 "metadata": {
  "kernelspec": {
   "display_name": "venv",
   "language": "python",
   "name": "python3"
  },
  "language_info": {
   "codemirror_mode": {
    "name": "ipython",
    "version": 3
   },
   "file_extension": ".py",
   "mimetype": "text/x-python",
   "name": "python",
   "nbconvert_exporter": "python",
   "pygments_lexer": "ipython3",
   "version": "3.10.6"
  }
 },
 "nbformat": 4,
 "nbformat_minor": 2
}
